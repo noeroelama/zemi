{
 "cells": [
  {
   "cell_type": "markdown",
   "id": "dc2810f3",
   "metadata": {},
   "source": [
    "# Autoregressive Moving Average (ARMA) Models\n",
    "### Arif Nurwahid\n",
    "Seminar on 21 Feb 2023"
   ]
  },
  {
   "cell_type": "markdown",
   "id": "c17cde7e",
   "metadata": {},
   "source": [
    "---\n",
    "We consider a mix of Autoregressive and Moving Average Models. Firstly, ARMA(1,1) model will be reviewed. Next part is revieweing the general MA(p,q) model."
   ]
  },
  {
   "cell_type": "markdown",
   "id": "d8c0fcac",
   "metadata": {},
   "source": [
    "---\n",
    "\n",
    "## ARMA(1,1)\n",
    "### Definition 1\n",
    "A Mixed autoregressive moving average model of order 1, an ARMA(1,1) process, is a stationary process $\\{X_t\\}$ which satisfies the following:\n",
    "\n",
    "$$\n",
    "\\begin{align*}\n",
    "X_t &= \\mu+\\varphi X_{t-1}+\\epsilon_t+ \\theta\\epsilon_{t-1}\\\\\n",
    "\\varphi(B) X_t &= \\mu + \\theta (B) \\epsilon_t\n",
    "\\end{align*}\n",
    "$$\n",
    "\n",
    "where:\n",
    "- $\\{\\epsilon_t\\}\\sim WN(0,\\sigma_{\\epsilon}^2)$\n",
    "- $\\mu$ is a constant term\n",
    "- $\\varphi\\ne 0$\n",
    "- $\\theta\\ne 0$.\n",
    "- $\\varphi(B) = 1-\\varphi B$\n",
    "- $\\theta (B) = 1+\\theta B$"
   ]
  },
  {
   "cell_type": "markdown",
   "id": "65f28873",
   "metadata": {},
   "source": [
    "- | - | - | - \n",
    "- | -  | - | - \n",
    "![alt](-0.5-0.5.png) | ![alt](-0.5+0.5.png) | ![alt](+0.9-0.5.png) | ![alt](+0.9+0.5.png)"
   ]
  },
  {
   "cell_type": "markdown",
   "id": "33ea4ad0",
   "metadata": {},
   "source": [
    "The property of an ARMA(1,1) process are a mixture of those an AR(1) and MA(1) processes:\n",
    "- The stationary condition is the one of an AR(1) process: $|\\varphi|<1$\n",
    "- The invertibility condition is the one of an MA(1) process: $|\\theta|<1$\n",
    "- The representation of an ARMA(1,1) process is causal if: $|\\varphi|<1$ and $|\\theta|<1$."
   ]
  },
  {
   "cell_type": "markdown",
   "id": "9ed820db",
   "metadata": {},
   "source": [
    "If $\\{X_t\\}$ is stationary, then it has an infinite moving average process:\n",
    "$$\n",
    "\\begin{align*}\n",
    "X_t &= \\frac{\\mu}{1-\\varphi} + \\left(\\frac{1+\\theta B}{1- \\varphi B}\\right) \\epsilon_t\\\\\n",
    "    &= \\frac{\\mu}{1-\\varphi} + \\sum_{k=0}^{\\infty} a_k \\epsilon_{t-k}\n",
    "\\end{align*}\n",
    "$$\n",
    "\n",
    "where:\n",
    "- $a_0 = 1$\n",
    "- $a_k = \\varphi^k + \\theta \\varphi^{k-1}$"
   ]
  },
  {
   "cell_type": "markdown",
   "id": "20e77276",
   "metadata": {},
   "source": [
    "If $\\{X_t\\}$ is invertible, then it has an infinite autoregressive process:\n",
    "$$\n",
    "\\begin{align*}\n",
    "\\left(\\frac{1- \\varphi B}{1+\\theta B}\\right) X_t &= \\frac{\\mu}{1+\\theta} + \\epsilon_t\\\\\n",
    "    \\epsilon_t &= -\\frac{\\mu}{1+\\theta} + X_t + \\sum_{k=1}^{\\infty} b_k X_{t-k}\n",
    "\\end{align*}\n",
    "$$\n",
    "\n",
    "where:\n",
    "- $b_k = (-\\theta)^k - \\varphi (-\\theta)^{k-1}$"
   ]
  },
  {
   "cell_type": "markdown",
   "id": "272baa40",
   "metadata": {},
   "source": [
    "### Moments\n",
    "By $\\{X_t\\}$ defined above, we have the following:\n",
    "1. $E[X_t] = \\displaystyle\\frac{\\mu}{1-\\varphi}$\n",
    "2. $\\gamma_0 = \\displaystyle\\frac{1+2\\varphi\\theta+\\theta^2}{1-\\varphi^2} \\sigma_{\\epsilon}^2$\n",
    "3. $\\gamma_1 = \\displaystyle\\frac{(\\varphi+\\theta)(1+\\varphi\\theta)}{1-\\varphi^2} \\sigma_{\\epsilon}^2$\n",
    "4. $\\gamma_h = \\varphi \\gamma_{h-1}$ for $|h|>1$"
   ]
  },
  {
   "cell_type": "markdown",
   "id": "a460a63e",
   "metadata": {},
   "source": [
    "### Autocorrelation Function of an ARMA(1,1)\n",
    "The autocorrelation Function of an ARMA(1,1) process satisfies:\n",
    "$$ \\rho_h = \n",
    "\\begin{cases} \n",
    "      1 & ,h=0 \\\\\n",
    "      \\displaystyle\\frac{(\\varphi+\\theta)(1+\\varphi\\theta)}{1+2\\varphi\\theta+\\theta^2} & ,|h|=1 \\\\\n",
    "      \\varphi \\rho_{h-1} & ,|h|>1 \n",
    "   \\end{cases}\n",
    "$$"
   ]
  },
  {
   "cell_type": "markdown",
   "id": "5123efa2",
   "metadata": {},
   "source": [
    "---\n",
    "\n",
    "## ARMA(p,q)\n",
    "\n",
    "#### Main idea of MA(p,q) models\n",
    "- Approximate [Wold](https://en.wikipedia.org/wiki/Wold%27s_theorem) form of stationary time series by parsimonious paramteric models\n",
    "    - AR and MA models can be cumbersome because we may need a high-order model with many parameters to adequately describe the data.\n",
    "    - By mixing both models into a more compact form, the number of parameters is kept small.\n",
    "\n",
    "### Definition 2\n",
    "A Mixed autoregressive moving average model of order (p,q), an ARMA(p,q) process, is a stationary process $\\{X_t\\}$ which satisfies the relation:\n",
    "\n",
    "$$\n",
    "\\begin{align*}\n",
    "X_t &= \\mu+\\sum_{i=1}^{p} \\varphi_{i}X_{t-i}+\\epsilon_t+\\sum_{j=1}^{q} \\theta_{j}\\epsilon_{t-j}\\\\\n",
    "\\varphi(B) X_t &= \\mu + \\theta (B) \\epsilon_t\n",
    "\\end{align*}\n",
    "$$\n",
    "\n",
    "where:\n",
    "- $\\{\\epsilon_t\\}\\sim WN(0,\\sigma_{\\epsilon}^2)$\n",
    "- $E[X_s\\epsilon_t]=0$ if $s<t$\n",
    "- $\\mu$ is a constant term\n",
    "- $\\varphi_p\\ne 0$\n",
    "- $\\theta_q \\ne 0$.\n",
    "- $\\varphi(z) = 1-\\varphi_1 z - \\varphi_2 z^2 - \\cdots - \\varphi_p z^p$\n",
    "- $\\theta (z) = 1+\\theta_1 z+\\theta_2 z^2 + \\cdots + \\theta_q z^q$"
   ]
  },
  {
   "cell_type": "markdown",
   "id": "e6d8657b",
   "metadata": {},
   "source": [
    "The properties of ARMA(p,q) process are a mixture of those an AR(p) and MA(q) processes:\n",
    "- The stationary conditions are those of an AR(p) process ( i.e. **ARMA(p,0)** ):\n",
    "    - all roots of $\\varphi(z)$ do not lie on the unit circle.\n",
    "- The invertibility conditions are those of an MA(q) process (i.e. **ARMA(0,q)** ):\n",
    "    - all roots of $\\theta(z)$ lie outside the unit circle.\n",
    "- The representation of an ARMA(p,q) process is causal if it is stationary and invertible."
   ]
  },
  {
   "cell_type": "markdown",
   "id": "96aa2c92",
   "metadata": {},
   "source": [
    "### Moment of ARMA(p,q)\n",
    "The mean is the same as the one of an AR(p) model: $E[X_t] = \\displaystyle\\frac{\\mu}{1-\\displaystyle\\sum_{j=1}^p \\varphi_k}$\n"
   ]
  }
 ],
 "metadata": {
  "kernelspec": {
   "display_name": "Python 3 (ipykernel)",
   "language": "python",
   "name": "python3"
  },
  "language_info": {
   "codemirror_mode": {
    "name": "ipython",
    "version": 3
   },
   "file_extension": ".py",
   "mimetype": "text/x-python",
   "name": "python",
   "nbconvert_exporter": "python",
   "pygments_lexer": "ipython3",
   "version": "3.10.9"
  }
 },
 "nbformat": 4,
 "nbformat_minor": 5
}
